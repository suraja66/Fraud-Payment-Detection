{
 "cells": [
  {
   "cell_type": "markdown",
   "id": "79ca76e9-aa99-4a60-8203-d7e10307dee4",
   "metadata": {},
   "source": [
    "### Project - Online Payments Fraud Detection "
   ]
  },
  {
   "cell_type": "code",
   "execution_count": null,
   "id": "6fbcece5-8805-4fb0-a081-c1bc0c93f1b7",
   "metadata": {},
   "outputs": [],
   "source": [
    "- Online payment systems has helped a lot in the ease of payments. But, at the same time it increased in payment frauds. \n",
    "  Online payment frauds can happen with anyone using any payment system, especially while making payments using a credit card. \n",
    "  That is why detecting online payment fraud is very important for credit card companies to ensure that the customers are not getting \n",
    "  charged for the products and services they never had. \n",
    "  In this, We will do the task of online payments fraud detection with machine learning using Python."
   ]
  },
  {
   "cell_type": "code",
   "execution_count": 1,
   "id": "022d48e1-e5f0-4f67-892a-d410bd39fa43",
   "metadata": {},
   "outputs": [],
   "source": [
    "import pandas as pd\n",
    "import numpy as np"
   ]
  },
  {
   "cell_type": "code",
   "execution_count": 3,
   "id": "9f0b3c70-4d8e-4e80-8539-8505fb3c7509",
   "metadata": {},
   "outputs": [
    {
     "data": {
      "text/html": [
       "<div>\n",
       "<style scoped>\n",
       "    .dataframe tbody tr th:only-of-type {\n",
       "        vertical-align: middle;\n",
       "    }\n",
       "\n",
       "    .dataframe tbody tr th {\n",
       "        vertical-align: top;\n",
       "    }\n",
       "\n",
       "    .dataframe thead th {\n",
       "        text-align: right;\n",
       "    }\n",
       "</style>\n",
       "<table border=\"1\" class=\"dataframe\">\n",
       "  <thead>\n",
       "    <tr style=\"text-align: right;\">\n",
       "      <th></th>\n",
       "      <th>step</th>\n",
       "      <th>type</th>\n",
       "      <th>amount</th>\n",
       "      <th>nameOrig</th>\n",
       "      <th>oldbalanceOrg</th>\n",
       "      <th>newbalanceOrig</th>\n",
       "      <th>nameDest</th>\n",
       "      <th>oldbalanceDest</th>\n",
       "      <th>newbalanceDest</th>\n",
       "      <th>isFraud</th>\n",
       "      <th>isFlaggedFraud</th>\n",
       "    </tr>\n",
       "  </thead>\n",
       "  <tbody>\n",
       "    <tr>\n",
       "      <th>0</th>\n",
       "      <td>1</td>\n",
       "      <td>PAYMENT</td>\n",
       "      <td>9839.64</td>\n",
       "      <td>C1231006815</td>\n",
       "      <td>170136.0</td>\n",
       "      <td>160296.36</td>\n",
       "      <td>M1979787155</td>\n",
       "      <td>0.0</td>\n",
       "      <td>0.0</td>\n",
       "      <td>0</td>\n",
       "      <td>0</td>\n",
       "    </tr>\n",
       "    <tr>\n",
       "      <th>1</th>\n",
       "      <td>1</td>\n",
       "      <td>PAYMENT</td>\n",
       "      <td>1864.28</td>\n",
       "      <td>C1666544295</td>\n",
       "      <td>21249.0</td>\n",
       "      <td>19384.72</td>\n",
       "      <td>M2044282225</td>\n",
       "      <td>0.0</td>\n",
       "      <td>0.0</td>\n",
       "      <td>0</td>\n",
       "      <td>0</td>\n",
       "    </tr>\n",
       "    <tr>\n",
       "      <th>2</th>\n",
       "      <td>1</td>\n",
       "      <td>TRANSFER</td>\n",
       "      <td>181.00</td>\n",
       "      <td>C1305486145</td>\n",
       "      <td>181.0</td>\n",
       "      <td>0.00</td>\n",
       "      <td>C553264065</td>\n",
       "      <td>0.0</td>\n",
       "      <td>0.0</td>\n",
       "      <td>1</td>\n",
       "      <td>0</td>\n",
       "    </tr>\n",
       "    <tr>\n",
       "      <th>3</th>\n",
       "      <td>1</td>\n",
       "      <td>CASH_OUT</td>\n",
       "      <td>181.00</td>\n",
       "      <td>C840083671</td>\n",
       "      <td>181.0</td>\n",
       "      <td>0.00</td>\n",
       "      <td>C38997010</td>\n",
       "      <td>21182.0</td>\n",
       "      <td>0.0</td>\n",
       "      <td>1</td>\n",
       "      <td>0</td>\n",
       "    </tr>\n",
       "    <tr>\n",
       "      <th>4</th>\n",
       "      <td>1</td>\n",
       "      <td>PAYMENT</td>\n",
       "      <td>11668.14</td>\n",
       "      <td>C2048537720</td>\n",
       "      <td>41554.0</td>\n",
       "      <td>29885.86</td>\n",
       "      <td>M1230701703</td>\n",
       "      <td>0.0</td>\n",
       "      <td>0.0</td>\n",
       "      <td>0</td>\n",
       "      <td>0</td>\n",
       "    </tr>\n",
       "  </tbody>\n",
       "</table>\n",
       "</div>"
      ],
      "text/plain": [
       "   step      type    amount     nameOrig  oldbalanceOrg  newbalanceOrig  \\\n",
       "0     1   PAYMENT   9839.64  C1231006815       170136.0       160296.36   \n",
       "1     1   PAYMENT   1864.28  C1666544295        21249.0        19384.72   \n",
       "2     1  TRANSFER    181.00  C1305486145          181.0            0.00   \n",
       "3     1  CASH_OUT    181.00   C840083671          181.0            0.00   \n",
       "4     1   PAYMENT  11668.14  C2048537720        41554.0        29885.86   \n",
       "\n",
       "      nameDest  oldbalanceDest  newbalanceDest  isFraud  isFlaggedFraud  \n",
       "0  M1979787155             0.0             0.0        0               0  \n",
       "1  M2044282225             0.0             0.0        0               0  \n",
       "2   C553264065             0.0             0.0        1               0  \n",
       "3    C38997010         21182.0             0.0        1               0  \n",
       "4  M1230701703             0.0             0.0        0               0  "
      ]
     },
     "execution_count": 3,
     "metadata": {},
     "output_type": "execute_result"
    }
   ],
   "source": [
    "dtst = pd.read_csv(\"credit card.csv\")\n",
    "dtst.head()"
   ]
  },
  {
   "cell_type": "code",
   "execution_count": null,
   "id": "3411478f-ac6a-4255-95b5-d533a1e2634b",
   "metadata": {},
   "outputs": [],
   "source": [
    "- To identify online payment fraud with machine learning, we need to train a machine learning model for classifying fraudulent and \n",
    "  non-fraudulent payments.\n",
    "  Below are all the columns from the dataset we are using :\n",
    "1. step           : represents a unit of time where 1 step equals 1 hour\n",
    "2. type           : type of online transaction\n",
    "3. amount         : the amount of the transaction\n",
    "4. nameOrig       : customer starting the transaction\n",
    "5. oldbalanceOrg  : balance before the transaction\n",
    "6. newbalanceOrig : balance after the transaction\n",
    "7. nameDest       : recipient of the transaction\n",
    "8. oldbalanceDest : initial balance of recipient before the transaction\n",
    "9. newbalanceDest : the new balance of recipient after the transaction\n",
    "10.isFraud        : fraud transaction"
   ]
  },
  {
   "cell_type": "code",
   "execution_count": 4,
   "id": "a358d608-fea1-4c46-beb0-3c1642787b9f",
   "metadata": {},
   "outputs": [
    {
     "data": {
      "text/plain": [
       "(6362620, 11)"
      ]
     },
     "execution_count": 4,
     "metadata": {},
     "output_type": "execute_result"
    }
   ],
   "source": [
    "dtst.shape"
   ]
  },
  {
   "cell_type": "code",
   "execution_count": 5,
   "id": "4818e664-51a1-45cb-8183-220ae1c2c792",
   "metadata": {},
   "outputs": [
    {
     "data": {
      "text/plain": [
       "step              0\n",
       "type              0\n",
       "amount            0\n",
       "nameOrig          0\n",
       "oldbalanceOrg     0\n",
       "newbalanceOrig    0\n",
       "nameDest          0\n",
       "oldbalanceDest    0\n",
       "newbalanceDest    0\n",
       "isFraud           0\n",
       "isFlaggedFraud    0\n",
       "dtype: int64"
      ]
     },
     "execution_count": 5,
     "metadata": {},
     "output_type": "execute_result"
    }
   ],
   "source": [
    "# Check for any null values present in tne dataset\n",
    "dtst.isnull().sum()"
   ]
  },
  {
   "cell_type": "markdown",
   "id": "d1148ab3-1671-4aad-911e-cacd0cb7235d",
   "metadata": {},
   "source": [
    "- So this dataset does not have any null values. \n",
    "- Lets check the type of transaction mentioned in the dataset :"
   ]
  },
  {
   "cell_type": "code",
   "execution_count": 6,
   "id": "4923a6cd-a65b-4f01-84c3-dadfc68083bd",
   "metadata": {},
   "outputs": [
    {
     "data": {
      "text/plain": [
       "type\n",
       "CASH_OUT    2237500\n",
       "PAYMENT     2151495\n",
       "CASH_IN     1399284\n",
       "TRANSFER     532909\n",
       "DEBIT         41432\n",
       "Name: count, dtype: int64"
      ]
     },
     "execution_count": 6,
     "metadata": {},
     "output_type": "execute_result"
    }
   ],
   "source": [
    "dtst.type.value_counts()  # Gives Unique transaction types"
   ]
  },
  {
   "cell_type": "code",
   "execution_count": 7,
   "id": "dd639e58-97aa-463e-b361-d04126c515f0",
   "metadata": {},
   "outputs": [],
   "source": [
    "import matplotlib.pyplot as plt"
   ]
  },
  {
   "cell_type": "code",
   "execution_count": 8,
   "id": "84bd1b84-9b6a-413d-8cd6-612e3af6b84f",
   "metadata": {},
   "outputs": [
    {
     "ename": "AttributeError",
     "evalue": "type object 'type' has no attribute 'index'",
     "output_type": "error",
     "traceback": [
      "\u001b[1;31m---------------------------------------------------------------------------\u001b[0m",
      "\u001b[1;31mAttributeError\u001b[0m                            Traceback (most recent call last)",
      "Cell \u001b[1;32mIn[8], line 2\u001b[0m\n\u001b[0;32m      1\u001b[0m type_counts \u001b[38;5;241m=\u001b[39m dtst[\u001b[38;5;124m\"\u001b[39m\u001b[38;5;124mtype\u001b[39m\u001b[38;5;124m\"\u001b[39m]\u001b[38;5;241m.\u001b[39mvalue_counts()    \u001b[38;5;66;03m# Gives Unique transaction types\u001b[39;00m\n\u001b[1;32m----> 2\u001b[0m transactions \u001b[38;5;241m=\u001b[39m \u001b[38;5;28;43mtype\u001b[39;49m\u001b[38;5;241;43m.\u001b[39;49m\u001b[43mindex\u001b[49m             \u001b[38;5;66;03m# returns the unique values (categories) as an Index object.\u001b[39;00m\n\u001b[0;32m      3\u001b[0m quantity \u001b[38;5;241m=\u001b[39m \u001b[38;5;28mtype\u001b[39m\u001b[38;5;241m.\u001b[39mvalues                \u001b[38;5;66;03m# returns the count of each category as a NumPy array.\u001b[39;00m\n\u001b[0;32m      5\u001b[0m plot_df \u001b[38;5;241m=\u001b[39m pd\u001b[38;5;241m.\u001b[39mDataFrame({\u001b[38;5;124m\"\u001b[39m\u001b[38;5;124mType\u001b[39m\u001b[38;5;124m\"\u001b[39m: type_counts\u001b[38;5;241m.\u001b[39mindex, \u001b[38;5;124m\"\u001b[39m\u001b[38;5;124mquantity\u001b[39m\u001b[38;5;124m\"\u001b[39m: type_counts\u001b[38;5;241m.\u001b[39mvalues})\n",
      "\u001b[1;31mAttributeError\u001b[0m: type object 'type' has no attribute 'index'"
     ]
    }
   ],
   "source": [
    "type_counts = dtst[\"type\"].value_counts()    # Gives Unique transaction types\n",
    "transactions = type.index             # returns the unique values (categories) as an Index object.\n",
    "quantity = type.values                # returns the count of each category as a NumPy array.\n",
    "\n",
    "plot_df = pd.DataFrame({\"Type\": type_counts.index, \"quantity\": type_counts.values})\n",
    "\n",
    "import plotly.express as px\n",
    "figure = px.pie(plot_df, \n",
    "             values=quantity, \n",
    "             names=transactions,hole = 0.5, \n",
    "             title=\"Distribution of Transaction Type\",\n",
    "             width=700, height=400)\n",
    "figure.show()"
   ]
  },
  {
   "cell_type": "code",
   "execution_count": null,
   "id": "d7a40c7f-86e3-4a19-866a-45be34caff83",
   "metadata": {},
   "outputs": [],
   "source": [
    "- Now let’s have a look at the correlation between the features of the data with the isFraud column :"
   ]
  },
  {
   "cell_type": "code",
   "execution_count": null,
   "id": "5775ab76-cf0d-434f-b70b-98b00280850c",
   "metadata": {},
   "outputs": [],
   "source": [
    "dtst.dtypes"
   ]
  },
  {
   "cell_type": "code",
   "execution_count": 54,
   "id": "b078b386-cf9e-4314-a022-2fe02f54151a",
   "metadata": {},
   "outputs": [
    {
     "name": "stdout",
     "output_type": "stream",
     "text": [
      "isFraud           1.000000\n",
      "amount            0.076688\n",
      "isFlaggedFraud    0.044109\n",
      "step              0.031578\n",
      "oldbalanceOrg     0.010154\n",
      "newbalanceDest    0.000535\n",
      "oldbalanceDest   -0.005885\n",
      "newbalanceOrig   -0.008148\n",
      "Name: isFraud, dtype: float64\n"
     ]
    }
   ],
   "source": [
    "numeric_data = dtst.select_dtypes(include=[float, int])     # Select only numeric columns.\n",
    "\n",
    "# Checking correlation \n",
    "correlation = numeric_data.corr()         # Compute the correlation matrix\n",
    "print(correlation[\"isFraud\"].sort_values(ascending=False))     # Sort by correlation with 'isFraud'.\n",
    "\n",
    "# This helps identify which features are most strongly correlated with fraudulent transactions(is_fraud column)."
   ]
  },
  {
   "cell_type": "code",
   "execution_count": null,
   "id": "8e1da05d-8320-431a-b69b-d44fdb54a362",
   "metadata": {},
   "outputs": [],
   "source": [
    "Now let’s transform the categorical features into numerical. Here we will also transform the values of the isFraud column \n",
    "into No Fraud and Fraud labels to have a better understanding of the output:"
   ]
  },
  {
   "cell_type": "code",
   "execution_count": 9,
   "id": "eeee9d2f-beb2-43df-a1c5-a82339bbd2c9",
   "metadata": {},
   "outputs": [
    {
     "name": "stdout",
     "output_type": "stream",
     "text": [
      "   step  type    amount     nameOrig  oldbalanceOrg  newbalanceOrig  \\\n",
      "0     1     2   9839.64  C1231006815       170136.0       160296.36   \n",
      "1     1     2   1864.28  C1666544295        21249.0        19384.72   \n",
      "2     1     4    181.00  C1305486145          181.0            0.00   \n",
      "3     1     1    181.00   C840083671          181.0            0.00   \n",
      "4     1     2  11668.14  C2048537720        41554.0        29885.86   \n",
      "\n",
      "      nameDest  oldbalanceDest  newbalanceDest   isFraud  isFlaggedFraud  \n",
      "0  M1979787155             0.0             0.0  No Fraud               0  \n",
      "1  M2044282225             0.0             0.0  No Fraud               0  \n",
      "2   C553264065             0.0             0.0     Fraud               0  \n",
      "3    C38997010         21182.0             0.0     Fraud               0  \n",
      "4  M1230701703             0.0             0.0  No Fraud               0  \n"
     ]
    }
   ],
   "source": [
    "dtst[\"type\"] = dtst[\"type\"].map({\"CASH_OUT\":1,\"PAYMENT\":2, \n",
    "                                 \"CASH_IN\":3,\"TRANSFER\":4,\n",
    "                                 \"DEBIT\":5})\n",
    "dtst[\"isFraud\"] = dtst[\"isFraud\"].map({0:\"No Fraud\",1:\"Fraud\"})\n",
    "print(dtst.head())"
   ]
  },
  {
   "cell_type": "markdown",
   "id": "2d875002-0eb9-49f8-95a6-34e6ac940b99",
   "metadata": {},
   "source": [
    "### Online Payments Fraud Detection Model :"
   ]
  },
  {
   "cell_type": "code",
   "execution_count": null,
   "id": "9745a867-c306-4a3d-97cb-9b7f36103bac",
   "metadata": {},
   "outputs": [],
   "source": [
    "Now let’s train a classification model to classify fraud and non-fraud transactions. \n",
    "Before training the model, I will split the data into training and test sets:"
   ]
  },
  {
   "cell_type": "code",
   "execution_count": 13,
   "id": "c1409c80-719e-40ce-8db3-2b3278f0718a",
   "metadata": {},
   "outputs": [],
   "source": [
    "import sklearn\n",
    "from sklearn.model_selection import train_test_split"
   ]
  },
  {
   "cell_type": "code",
   "execution_count": 14,
   "id": "405737c0-3266-4003-83fc-5670dbc530fd",
   "metadata": {},
   "outputs": [],
   "source": [
    "# splitting the data\n",
    "# Define features (X) and target variable (y)\n",
    "\n",
    "x = np.array(dtst[[\"type\", \"amount\", \"oldbalanceOrg\", \"newbalanceOrig\"]])   # Features\n",
    "y = np.array(dtst[[\"isFraud\"]])   # Target variable (converted to a 1D array)"
   ]
  },
  {
   "cell_type": "markdown",
   "id": "bfef7a96-6c37-41eb-b6a4-e7f24515ddf5",
   "metadata": {},
   "source": [
    "#### Now let’s train the online payments fraud detection model :"
   ]
  },
  {
   "cell_type": "code",
   "execution_count": 15,
   "id": "4fdc1d0c-fd8e-4cff-94ef-b068595863ee",
   "metadata": {},
   "outputs": [],
   "source": [
    "from sklearn.tree import DecisionTreeClassifier"
   ]
  },
  {
   "cell_type": "code",
   "execution_count": 16,
   "id": "a8575e4c-89f9-4553-bdfa-568b7c2e6b5c",
   "metadata": {},
   "outputs": [],
   "source": [
    "# Split the dataset into training and testing sets\n",
    "\n",
    "xtrain, xtest, ytrain, ytest = train_test_split(x, y, test_size=0.2, random_state=42)"
   ]
  },
  {
   "cell_type": "code",
   "execution_count": 20,
   "id": "937bde21-ba96-43a3-9557-5ac35663c35f",
   "metadata": {},
   "outputs": [
    {
     "name": "stdout",
     "output_type": "stream",
     "text": [
      "(5090096, 4) (1272524, 4) (5090096, 1) (1272524, 1)\n"
     ]
    }
   ],
   "source": [
    "# Print the shape of the split datasets\n",
    "\n",
    "print(xtrain.shape, xtest.shape, ytrain.shape, ytest.shape)"
   ]
  },
  {
   "cell_type": "code",
   "execution_count": 21,
   "id": "185bc90d-07d0-4046-beed-dcab182bca9f",
   "metadata": {},
   "outputs": [
    {
     "name": "stdout",
     "output_type": "stream",
     "text": [
      "[[2.00000000e+00 9.83964000e+03 1.70136000e+05 1.60296360e+05]\n",
      " [2.00000000e+00 1.86428000e+03 2.12490000e+04 1.93847200e+04]\n",
      " [4.00000000e+00 1.81000000e+02 1.81000000e+02 0.00000000e+00]\n",
      " ...\n",
      " [1.00000000e+00 6.31140928e+06 6.31140928e+06 0.00000000e+00]\n",
      " [4.00000000e+00 8.50002520e+05 8.50002520e+05 0.00000000e+00]\n",
      " [1.00000000e+00 8.50002520e+05 8.50002520e+05 0.00000000e+00]]\n",
      "float64\n"
     ]
    }
   ],
   "source": [
    "print(x)\n",
    "print(x.dtype)  # Check the data type of the array"
   ]
  },
  {
   "cell_type": "code",
   "execution_count": 22,
   "id": "946a6043-fbf0-411d-bb3a-6edff8d3195e",
   "metadata": {},
   "outputs": [
    {
     "name": "stdout",
     "output_type": "stream",
     "text": [
      "Column 0:\n",
      "[2. 2. 4. ... 1. 4. 1.]\n",
      "Data type: float64\n",
      "Column 1:\n",
      "[9.83964000e+03 1.86428000e+03 1.81000000e+02 ... 6.31140928e+06\n",
      " 8.50002520e+05 8.50002520e+05]\n",
      "Data type: float64\n",
      "Column 2:\n",
      "[1.70136000e+05 2.12490000e+04 1.81000000e+02 ... 6.31140928e+06\n",
      " 8.50002520e+05 8.50002520e+05]\n",
      "Data type: float64\n",
      "Column 3:\n",
      "[160296.36  19384.72      0.   ...      0.        0.        0.  ]\n",
      "Data type: float64\n"
     ]
    }
   ],
   "source": [
    "for col in range(x.shape[1]):    # x.shape[1] gives the number of columns in x (features).\n",
    "    print(f\"Column {col}:\")      # Prints the column index\n",
    "    print(x[:, col])         # prints all values in that column\n",
    "    print(f\"Data type: {x[:, col].dtype}\")      # x[:, col].dtype retrieves the data type of that column (e.g., int, float)"
   ]
  },
  {
   "cell_type": "code",
   "execution_count": 23,
   "id": "0893b454-ee0b-47cc-9f4b-f1bececdd76d",
   "metadata": {},
   "outputs": [
    {
     "name": "stdout",
     "output_type": "stream",
     "text": [
      "0.9997060959164621\n"
     ]
    }
   ],
   "source": [
    "# training a machine learning model\n",
    "\n",
    "xtrain, xtest, ytrain, ytest = train_test_split(x, y, test_size=0.2, random_state=42)\n",
    "model = DecisionTreeClassifier()    # creates a decision tree model.\n",
    "model.fit(xtrain, ytrain)           # trains the model using the training data.\n",
    "print(model.score(xtest, ytest))\n",
    "\n",
    "# .score(xtest, ytest) calculates the accuracy of the model: Accuracy = Correct Predictions/Total Predictions"
   ]
  },
  {
   "cell_type": "code",
   "execution_count": null,
   "id": "c53db839-5bb9-45d9-8df5-71ee26e9405d",
   "metadata": {},
   "outputs": [],
   "source": []
  },
  {
   "cell_type": "markdown",
   "id": "db05fd22-b2f6-4b55-8463-b11607c1d67a",
   "metadata": {},
   "source": [
    "#### Now let’s classify whether a transaction is a fraud or not by feeding about a transaction into the model :"
   ]
  },
  {
   "cell_type": "code",
   "execution_count": 24,
   "id": "6a5ae47c-a9cf-49e5-a4ec-7ec4ab3a6b18",
   "metadata": {},
   "outputs": [
    {
     "name": "stdout",
     "output_type": "stream",
     "text": [
      "['Fraud']\n"
     ]
    }
   ],
   "source": [
    "# prediction\n",
    "#features = [type, amount, oldbalanceOrg, newbalanceOrig]\n",
    "features = np.array([[4, 9000.60, 9000.60, 0.0]])\n",
    "print(model.predict(features))"
   ]
  },
  {
   "cell_type": "code",
   "execution_count": null,
   "id": "20b1c86c-e7a1-4b45-8f48-7ae072d0f8ff",
   "metadata": {},
   "outputs": [],
   "source": []
  }
 ],
 "metadata": {
  "kernelspec": {
   "display_name": "Python 3 (ipykernel)",
   "language": "python",
   "name": "python3"
  },
  "language_info": {
   "codemirror_mode": {
    "name": "ipython",
    "version": 3
   },
   "file_extension": ".py",
   "mimetype": "text/x-python",
   "name": "python",
   "nbconvert_exporter": "python",
   "pygments_lexer": "ipython3",
   "version": "3.13.2"
  }
 },
 "nbformat": 4,
 "nbformat_minor": 5
}
